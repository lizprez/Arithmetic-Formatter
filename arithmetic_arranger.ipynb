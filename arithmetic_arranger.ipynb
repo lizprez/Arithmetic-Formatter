{
 "cells": [
  {
   "cell_type": "code",
   "execution_count": 1,
   "id": "f62e5f93",
   "metadata": {},
   "outputs": [],
   "source": [
    "def arithmetic_arranger(problems,result=False):\n",
    "    num_errors1=0\n",
    "    num_errors2=0\n",
    "    num_errors3=0\n",
    "    num_str=list()\n",
    "    num_str_tot=list()\n",
    "    num_tot=list()\n",
    "    sym_operations=list()\n",
    "    first_num=list()\n",
    "    second_num=list()\n",
    "    total=list()\n",
    "    linea1=list()\n",
    "    linea2=list()\n",
    "    dif=list()\n",
    "    linea1_str=\"\"\n",
    "    linea2_str=\"\"\n",
    "    total_str=\"\"\n",
    "    dashes=list()\n",
    "    dashes1=str\n",
    "    arranged_problems=str\n",
    "    \n",
    "    #Count errors type 1\n",
    "    for i in problems:\n",
    "        if \"+\" in i or \"-\" in i:\n",
    "            continue\n",
    "        else:\n",
    "            num_errors1=num_errors1+1\n",
    "            \n",
    "    #Count errors type 2\n",
    "    for i in problems:\n",
    "        i.split()\n",
    "        if i.split()[0].isdigit() is False:\n",
    "            num_errors2=num_errors2+1\n",
    "        if i.split()[-1].isdigit() is False:\n",
    "            num_errors2=num_errors2+1\n",
    "            \n",
    "    # obtain string list of all numbers in the arguments\n",
    "    import re\n",
    "    for i in problems:\n",
    "        num_str.append(re.findall('[0-9]+',i))\n",
    "       \n",
    "    for j in num_str:\n",
    "        num_str_tot=num_str_tot+j\n",
    "    \n",
    "    # Count errors type 3\n",
    "    for i in num_str_tot:\n",
    "        if len(i)>4:\n",
    "            num_errors3=num_errors3+1\n",
    "\n",
    "\n",
    "    \n",
    "    # Check errors and prints\n",
    "    \n",
    "    if num_errors1+num_errors2+num_errors3>5:\n",
    "        return 'Too many errors'\n",
    "    if num_errors1>0 and num_errors1<=5 and num_errors1+num_errors2+num_errors3<=5 and num_errors2==0 and num_errors3==0:\n",
    "        return \"Error: Operator must be '+' or '-'.\"\n",
    "    if num_errors2>0 and num_errors2<=5 and num_errors1+num_errors2+num_errors3<=5 and num_errors1==0 and num_errors3==0:\n",
    "        return \"Error: Numbers must only contain digits.\"\n",
    "    if num_errors3>0 and num_errors3<=5 and num_errors1+num_errors2+num_errors3<=5 and num_errors1==0 and num_errors2==0:\n",
    "        return \"Error: Numbers cannot be more than four digits.\"\n",
    "    if num_errors1>0 and num_errors1<=5 and num_errors2>0 and num_errors2<=5 and num_errors3==0 and num_errors1+num_errors2+num_errors3<=5:\n",
    "        return \"Error: Operator must be '+' or '-'.\"+\"\\n\"+\"Error: Numbers must only contain digits.\"\n",
    "    if num_errors1>0 and num_errors1<=5 and num_errors3>0 and num_errors3<=5 and num_errors2==0 and num_errors1+num_errors2+num_errors3<=5:\n",
    "        return \"Error: Operator must be '+' or '-'.\"+\"\\n\"+\"Error: Numbers cannot be more than four digits.\"\n",
    "    if num_errors2>0 and num_errors2<=5 and num_errors3>0 and num_errors3<=5 and num_errors1==0 and num_errors1+num_errors2+num_errors3<=5:\n",
    "        return \"Error: Numbers must only contain digits.\"+\"\\n\"+\"Error: Numbers cannot be more than four digits.\"\n",
    "    if num_errors1>0 and num_errors1<=5 and num_errors2>0 and num_errors2<=5 and num_errors3>0 and num_errors3<=5 and num_errors1+num_errors2+num_errors3<=5:\n",
    "        return \"Error: Operator must be '+' or '-'.\" + \"\\n\"+\"Error: Numbers must only contain digits.\"+\"\\n\"+\"Error: Numbers cannot be more than four digits.\"\n",
    "    quit()\n",
    "    \n",
    "    for i in num_str_tot:\n",
    "        num_tot.append(int(i))\n",
    "    \n",
    "    #symbol of problems in order\n",
    "    for i in range(len(problems)):\n",
    "        if '+' in problems[i]:\n",
    "            sym_operations.append('+')\n",
    "        else:\n",
    "            sym_operations.append('-')\n",
    "            \n",
    "    # list of addends\n",
    "    for k in range(len(num_tot)):\n",
    "        if k%2==0:\n",
    "            first_num.append(num_tot[k])\n",
    "        else:\n",
    "            second_num.append(num_tot[k])\n",
    "    \n",
    "    for i in range(len(problems)):\n",
    "        if '+' in sym_operations[i]:\n",
    "            total.append(first_num[i]+second_num[i])\n",
    "        else:\n",
    "            total.append(first_num[i]-second_num[i])\n",
    "        \n",
    "        linea1.append(str(first_num[i]))\n",
    "        linea2.append(str(second_num[i]))\n",
    "        #addends  same length\n",
    "        dif.append(len(linea1[i])-len(linea2[i]))\n",
    "                \n",
    "        if dif[i]>0:\n",
    "            linea1[i]=linea1[i]\n",
    "            linea2[i]=\" \"*(dif[i]) + linea2[i]\n",
    "                \n",
    "        if dif[i]<0:\n",
    "            linea1[i]=\" \"*(abs(dif[i])) + linea1[i]\n",
    "            linea2[i]=linea2[i]\n",
    "        \n",
    "    for i in range(len(total)):\n",
    "        a=len(str(first_num[i]))\n",
    "        b=len(str(second_num[i]))\n",
    "        c=max(a,b)\n",
    "        l=len(str(total[i]))\n",
    "        \n",
    "        if l-c>0:\n",
    "            if l-a>0:\n",
    "                linea1[i]= \" \"*(l-c) + linea1[i]\n",
    "            \n",
    "            if l-b>0:\n",
    "                linea2[i]= \" \"*(l-c) + linea2[i]\n",
    "            \n",
    "        total_str= total_str + \" \"*2 + str(total[i]) + \" \"*4\n",
    "\n",
    "        linea1_str= linea1_str + \" \"*2 + linea1[i] + \" \"*4\n",
    "        linea2_str= linea2_str + sym_operations[i] + \" \" + linea2[i] + \" \"*4\n",
    "            \n",
    "        #dashes\n",
    "        if l<c:\n",
    "            dashes.append(\"__\"+\"_\"*(c) + \" \"*4)\n",
    "        else:\n",
    "            dashes.append(\"_\"*2 + \"_\"*(l) + \" \"*4)\n",
    "        \n",
    "    #linea1_str=\" \"+linea1_str+\"\\n\"\n",
    "    #linea2_str=linea2_str+\"\\n\"\n",
    "    dashes1= ''.join(dashes)\n",
    "    \n",
    "    \n",
    "    if num_errors1+num_errors2+num_errors3==0:\n",
    "        if result==False:\n",
    "            arranged_problems=linea1_str+\"\\n\"+linea2_str+\"\\n\"+dashes1\n",
    "            #print(linea1_str,linea2_str,dashes1)\n",
    "            return arranged_problems\n",
    "    \n",
    "        else:\n",
    "            arranged_problems=linea1_str+\"\\n\"+linea2_str+\"\\n\"+dashes1+\"\\n\"+total_str\n",
    "            #print(linea1_str,linea2_str,dashes1,total_str)\n",
    "            return arranged_problems\n",
    "    \n",
    "    \n"
   ]
  },
  {
   "cell_type": "code",
   "execution_count": 2,
   "id": "e1a2d176",
   "metadata": {},
   "outputs": [
    {
     "name": "stdout",
     "output_type": "stream",
     "text": [
      "   32      3811      45      123    \n",
      "+ 698    -  200    + 43    +  49    \n",
      "_____    ______    ____    _____    \n"
     ]
    }
   ],
   "source": [
    "print(arithmetic_arranger([\"32 + 698\",\"3811 - 200\", \"45 + 43\", \"123 + 49\"]))"
   ]
  },
  {
   "cell_type": "code",
   "execution_count": 3,
   "id": "e8cd0a47",
   "metadata": {},
   "outputs": [
    {
     "name": "stdout",
     "output_type": "stream",
     "text": [
      "   32      3801      45      123    \n",
      "+ 698    -  200    + 43    +  49    \n",
      "_____    ______    ____    _____    \n",
      "  730      3601      88      172    \n"
     ]
    }
   ],
   "source": [
    "print(arithmetic_arranger([\"32 + 698\", \"3801 - 200\", \"45 + 43\", \"123 + 49\"],True))"
   ]
  },
  {
   "cell_type": "code",
   "execution_count": 4,
   "id": "305530ce",
   "metadata": {},
   "outputs": [
    {
     "name": "stdout",
     "output_type": "stream",
     "text": [
      "   32         30       9999      523    \n",
      "+ 805    -  3801    +  9999    -  49    \n",
      "_____    _______    _______    _____    \n"
     ]
    }
   ],
   "source": [
    "print(arithmetic_arranger([\"32 + 805\", \"30 - 3801\", \"9999 + 9999\", \"523 - 49\"]))"
   ]
  },
  {
   "cell_type": "code",
   "execution_count": 2,
   "id": "34f9834c",
   "metadata": {},
   "outputs": [
    {
     "name": "stdout",
     "output_type": "stream",
     "text": [
      "   32         30       9999      523    \n",
      "+ 805    -  3801    +  9999    -  49    \n",
      "_____    _______    _______    _____    \n",
      "  837      -3771      19998      474    \n"
     ]
    }
   ],
   "source": [
    "print(arithmetic_arranger([\"32 + 805\", \"30 - 3801\", \"9999 + 9999\", \"523 - 49\"],True))"
   ]
  },
  {
   "cell_type": "code",
   "execution_count": 2,
   "id": "bbb7538f",
   "metadata": {},
   "outputs": [
    {
     "name": "stdout",
     "output_type": "stream",
     "text": [
      "Error: Operator must be '+' or '-'.\n",
      "Error: Numbers must only contain digits.\n",
      "Error: Numbers cannot be more than four digits.\n"
     ]
    }
   ],
   "source": [
    "print(arithmetic_arranger([\"32340 + 805\", \"3 % 3801\", \"99a - 9999\", \"52. / 490\"]))"
   ]
  },
  {
   "cell_type": "code",
   "execution_count": 4,
   "id": "0402e27f",
   "metadata": {},
   "outputs": [
    {
     "name": "stdout",
     "output_type": "stream",
     "text": [
      "  3801      123    \n",
      "-    2    +  49    \n",
      "______    _____    \n"
     ]
    }
   ],
   "source": [
    "# pruebas\n",
    "print(arithmetic_arranger(['3801 - 2', '123 + 49']))"
   ]
  },
  {
   "cell_type": "code",
   "execution_count": 2,
   "id": "1570ec42",
   "metadata": {},
   "outputs": [
    {
     "name": "stdout",
     "output_type": "stream",
     "text": [
      "  1          1    \n",
      "+ 2    -  9380    \n",
      "___    _______    \n"
     ]
    }
   ],
   "source": [
    "print(arithmetic_arranger(['1 + 2', '1 - 9380']))"
   ]
  },
  {
   "cell_type": "code",
   "execution_count": 2,
   "id": "78adc618",
   "metadata": {},
   "outputs": [
    {
     "name": "stdout",
     "output_type": "stream",
     "text": [
      "    3      3801      45      123    \n",
      "+ 855    -    2    + 43    +  49    \n",
      "_____    ______    ____    _____    \n"
     ]
    }
   ],
   "source": [
    "print(arithmetic_arranger(['3 + 855', '3801 - 2', '45 + 43', '123 + 49']))"
   ]
  },
  {
   "cell_type": "code",
   "execution_count": 2,
   "id": "0973c96b",
   "metadata": {
    "scrolled": true
   },
   "outputs": [
    {
     "name": "stdout",
     "output_type": "stream",
     "text": [
      "  11      3801      1      123          1    \n",
      "+  4    - 2999    + 2    +  49    -  9380    \n",
      "____    ______    ___    _____    _______    \n"
     ]
    }
   ],
   "source": [
    "print(arithmetic_arranger(['11 + 4', '3801 - 2999', '1 + 2', '123 + 49', '1 - 9380']))"
   ]
  },
  {
   "cell_type": "code",
   "execution_count": 2,
   "id": "fef43a4a",
   "metadata": {},
   "outputs": [
    {
     "name": "stdout",
     "output_type": "stream",
     "text": [
      "Too many errors\n"
     ]
    }
   ],
   "source": [
    "print(arithmetic_arranger(['44 * 815', '90900 - 2', '45 / 43', '12a3 + 49', '888.s + 40','65387 + 87']))"
   ]
  },
  {
   "cell_type": "code",
   "execution_count": 4,
   "id": "ebe73430",
   "metadata": {},
   "outputs": [
    {
     "name": "stdout",
     "output_type": "stream",
     "text": [
      "Error: Operator must be '+' or '-'.\n"
     ]
    }
   ],
   "source": [
    "print(arithmetic_arranger(['3 / 855', '3801 - 2', '45 + 43', '123 + 49']))"
   ]
  },
  {
   "cell_type": "code",
   "execution_count": 6,
   "id": "84252d83",
   "metadata": {},
   "outputs": [
    {
     "name": "stdout",
     "output_type": "stream",
     "text": [
      "Error: Numbers cannot be more than four digits.\n"
     ]
    }
   ],
   "source": [
    "print(arithmetic_arranger(['24 + 85215', '3801 - 2', '45 + 43', '123 + 49']))"
   ]
  },
  {
   "cell_type": "code",
   "execution_count": 8,
   "id": "0a792c17",
   "metadata": {},
   "outputs": [
    {
     "name": "stdout",
     "output_type": "stream",
     "text": [
      "Error: Numbers must only contain digits.\n"
     ]
    }
   ],
   "source": [
    "print(arithmetic_arranger(['98 + 3g5', '3801 - 2', '45 + 43', '123 + 49']))"
   ]
  },
  {
   "cell_type": "code",
   "execution_count": 10,
   "id": "71f0e1f3",
   "metadata": {},
   "outputs": [
    {
     "name": "stdout",
     "output_type": "stream",
     "text": [
      "    3       988    \n",
      "+ 855    +   40    \n",
      "_____    ______    \n",
      "  858      1028    \n"
     ]
    }
   ],
   "source": [
    "print(arithmetic_arranger(['3 + 855', '988 + 40'], True))"
   ]
  },
  {
   "cell_type": "code",
   "execution_count": 2,
   "id": "79d8a8e9",
   "metadata": {},
   "outputs": [
    {
     "name": "stdout",
     "output_type": "stream",
     "text": [
      "    32          1      45      123       988    \n",
      "-  698    -  3801    + 43    +  49    +   40    \n",
      "______    _______    ____    _____    ______    \n",
      "  -666      -3800      88      172      1028    \n"
     ]
    }
   ],
   "source": [
    "print(arithmetic_arranger(['32 - 698', '1 - 3801', '45 + 43', '123 + 49', '988 + 40'], True))"
   ]
  },
  {
   "cell_type": "code",
   "execution_count": 2,
   "id": "546a122a",
   "metadata": {},
   "outputs": [
    {
     "name": "stdout",
     "output_type": "stream",
     "text": [
      "   32      3801      45      123    \n",
      "+ 698    -    2    + 43    +  49    \n",
      "_____    ______    ____    _____    \n"
     ]
    }
   ],
   "source": [
    "# prueba main\n",
    "print(arithmetic_arranger([\"32 + 698\", \"3801 - 2\", \"45 + 43\", \"123 + 49\"]))"
   ]
  },
  {
   "cell_type": "code",
   "execution_count": null,
   "id": "d2c40ac3",
   "metadata": {},
   "outputs": [],
   "source": []
  }
 ],
 "metadata": {
  "kernelspec": {
   "display_name": "Python 3 (ipykernel)",
   "language": "python",
   "name": "python3"
  },
  "language_info": {
   "codemirror_mode": {
    "name": "ipython",
    "version": 3
   },
   "file_extension": ".py",
   "mimetype": "text/x-python",
   "name": "python",
   "nbconvert_exporter": "python",
   "pygments_lexer": "ipython3",
   "version": "3.9.13"
  }
 },
 "nbformat": 4,
 "nbformat_minor": 5
}
